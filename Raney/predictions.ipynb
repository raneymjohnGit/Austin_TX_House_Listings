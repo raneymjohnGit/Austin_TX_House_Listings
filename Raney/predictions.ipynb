{
 "cells": [
  {
   "cell_type": "code",
   "execution_count": 26,
   "id": "aafd105d",
   "metadata": {},
   "outputs": [
    {
     "name": "stderr",
     "output_type": "stream",
     "text": [
      "C:\\Users\\raney\\anaconda3\\envs\\mlenv\\lib\\site-packages\\sklearn\\base.py:315: UserWarning: Trying to unpickle estimator LinearRegression from version 1.0.2 when using version 0.24.2. This might lead to breaking code or invalid results. Use at your own risk.\n",
      "  UserWarning)\n"
     ]
    }
   ],
   "source": [
    "import joblib\n",
    "\n",
    "model = joblib.load(\"model.joblib\")\n"
   ]
  },
  {
   "cell_type": "code",
   "execution_count": 27,
   "id": "8c3ee3ea",
   "metadata": {},
   "outputs": [],
   "source": [
    "predictions = model.predict([[2000,8,3]])"
   ]
  },
  {
   "cell_type": "code",
   "execution_count": 28,
   "id": "10874d8b",
   "metadata": {},
   "outputs": [
    {
     "data": {
      "text/plain": [
       "580690.8428315783"
      ]
     },
     "execution_count": 28,
     "metadata": {},
     "output_type": "execute_result"
    }
   ],
   "source": [
    "house_price = predictions[0]\n",
    "house_price"
   ]
  },
  {
   "cell_type": "code",
   "execution_count": null,
   "id": "d8a6625c",
   "metadata": {},
   "outputs": [],
   "source": []
  }
 ],
 "metadata": {
  "kernelspec": {
   "display_name": "mlenv",
   "language": "python",
   "name": "mlenv"
  },
  "language_info": {
   "codemirror_mode": {
    "name": "ipython",
    "version": 3
   },
   "file_extension": ".py",
   "mimetype": "text/x-python",
   "name": "python",
   "nbconvert_exporter": "python",
   "pygments_lexer": "ipython3",
   "version": "3.7.13"
  }
 },
 "nbformat": 4,
 "nbformat_minor": 5
}
