{
  "nbformat": 4,
  "nbformat_minor": 0,
  "metadata": {
    "colab": {
      "name": "zipcode_averages.ipynb",
      "provenance": []
    },
    "kernelspec": {
      "name": "python3",
      "display_name": "Python 3"
    },
    "language_info": {
      "name": "python"
    }
  },
  "cells": [
    {
      "cell_type": "code",
      "execution_count": null,
      "metadata": {
        "colab": {
          "base_uri": "https://localhost:8080/"
        },
        "id": "yx_Dxjafk-Yc",
        "outputId": "9ca53ad5-e301-449e-e4d7-7e58226268fe"
      },
      "outputs": [
        {
          "output_type": "stream",
          "name": "stdout",
          "text": [
            "Looking in indexes: https://pypi.org/simple, https://us-python.pkg.dev/colab-wheels/public/simple/\n",
            "Collecting psycopg2-binary\n",
            "  Downloading psycopg2_binary-2.9.3-cp37-cp37m-manylinux_2_17_x86_64.manylinux2014_x86_64.whl (3.0 MB)\n",
            "\u001b[K     |████████████████████████████████| 3.0 MB 3.0 MB/s \n",
            "\u001b[?25hInstalling collected packages: psycopg2-binary\n",
            "Successfully installed psycopg2-binary-2.9.3\n"
          ]
        }
      ],
      "source": [
        "import subprocess\n",
        "from sqlalchemy.engine.create import create_engine\n",
        "! pip install psycopg2-binary "
      ]
    },
    {
      "cell_type": "code",
      "source": [
        "raw_db_url='dpaclsxjrpfluk:4fa14e6fdb846bd14d1a9eda261d554fab9688f2f4dd5483bc38d94cdee010ad@ec2-3-219-52-220.compute-1.amazonaws.com:5432/d7s0s0hs0a5lar'"
      ],
      "metadata": {
        "id": "lv7hzrfJlOJi"
      },
      "execution_count": null,
      "outputs": []
    },
    {
      "cell_type": "code",
      "source": [
        " # Copy paste this code\n",
        "import subprocess\n",
        "from sqlalchemy.engine.create import create_engine\n",
        "\n",
        "# Convert binary string to a regular string & remove the newline character\n",
        "db_url = raw_db_url\n",
        "\n",
        "# Convert \"postgres://<db_address>\"  --> \"postgresql+psycopg2://<db_address>\" needed for SQLAlchemy\n",
        "final_db_url = \"postgresql+psycopg2://\" + db_url.lstrip(\"postgres://\")  # lstrip() is more suitable here than replace() function since we only want to replace postgres at the start!\n",
        "\n",
        "\n",
        "# Create SQLAlchemy engine\n",
        "# ------------------------\n",
        "engine = create_engine(final_db_url)"
      ],
      "metadata": {
        "id": "zYYANmg5lNmf"
      },
      "execution_count": null,
      "outputs": []
    },
    {
      "cell_type": "code",
      "source": [
        "# To upload a file in google collab\n",
        "\n",
        "from google.colab import files\n",
        "uploaded = files.upload()"
      ],
      "metadata": {
        "colab": {
          "resources": {
            "http://localhost:8080/nbextensions/google.colab/files.js": {
              "data": "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",
              "ok": true,
              "headers": [
                [
                  "content-type",
                  "application/javascript"
                ]
              ],
              "status": 200,
              "status_text": ""
            }
          },
          "base_uri": "https://localhost:8080/",
          "height": 74
        },
        "id": "pa9N4Yj5pRbK",
        "outputId": "84d52f64-878c-4152-bbdc-e641d5939429"
      },
      "execution_count": 12,
      "outputs": [
        {
          "output_type": "display_data",
          "data": {
            "text/plain": [
              "<IPython.core.display.HTML object>"
            ],
            "text/html": [
              "\n",
              "     <input type=\"file\" id=\"files-3e9034cb-daa5-4cc0-85bc-a5fbdbd600c6\" name=\"files[]\" multiple disabled\n",
              "        style=\"border:none\" />\n",
              "     <output id=\"result-3e9034cb-daa5-4cc0-85bc-a5fbdbd600c6\">\n",
              "      Upload widget is only available when the cell has been executed in the\n",
              "      current browser session. Please rerun this cell to enable.\n",
              "      </output>\n",
              "      <script src=\"/nbextensions/google.colab/files.js\"></script> "
            ]
          },
          "metadata": {}
        },
        {
          "output_type": "stream",
          "name": "stdout",
          "text": [
            "Saving austinHousingData.csv to austinHousingData (1).csv\n"
          ]
        }
      ]
    },
    {
      "cell_type": "code",
      "source": [
        "# Use a file that has been uploaded, read into pandas dataframe.\n",
        "import io\n",
        "import pandas as pd\n",
        "\n",
        "df2 = pd.read_csv(io.BytesIO(uploaded['austinHousingData.csv']))"
      ],
      "metadata": {
        "id": "EtFp4u7SpOjG"
      },
      "execution_count": 14,
      "outputs": []
    },
    {
      "cell_type": "code",
      "source": [
        "# SQL to dataframe using sqlalchemy\n",
        "import pandas as pd\n",
        "\n",
        "df = pd.read_sql_table('raw_housing_data_2', engine)\n",
        "df.head()"
      ],
      "metadata": {
        "id": "9jCVcfIZlNTN",
        "colab": {
          "base_uri": "https://localhost:8080/",
          "height": 595
        },
        "outputId": "3c2ed148-a258-4b96-db48-e034d58d109a"
      },
      "execution_count": 16,
      "outputs": [
        {
          "output_type": "execute_result",
          "data": {
            "text/plain": [
              "   index        zpid          city          streetAddress  zipcode  \\\n",
              "0      0   111373431  pflugerville   14424 Lake Victor Dr    78660   \n",
              "1      1   120900430  pflugerville     1104 Strickling Dr    78660   \n",
              "2      2  2084491383  pflugerville    1408 Fort Dessau Rd    78660   \n",
              "3      3   120901374  pflugerville     1025 Strickling Dr    78660   \n",
              "4      4    60134862  pflugerville  15005 Donna Jane Loop    78660   \n",
              "\n",
              "                                         description   latitude  longitude  \\\n",
              "0  14424 Lake Victor Dr, Pflugerville, TX 78660 i...  30.430632 -97.663078   \n",
              "1  Absolutely GORGEOUS 4 Bedroom home with 2 full...  30.432673 -97.661697   \n",
              "2  Under construction - estimated completion in A...  30.409748 -97.639771   \n",
              "3  Absolutely darling one story home in charming ...  30.432112 -97.661659   \n",
              "4  Brimming with appeal & warm livability! Sleek ...  30.437368 -97.656860   \n",
              "\n",
              "   propertyTaxRate  garageSpaces  ...  numOfMiddleSchools  numOfHighSchools  \\\n",
              "0             1.98             2  ...                   1                 1   \n",
              "1             1.98             2  ...                   1                 1   \n",
              "2             1.98             0  ...                   1                 1   \n",
              "3             1.98             2  ...                   1                 1   \n",
              "4             1.98             0  ...                   1                 1   \n",
              "\n",
              "   avgSchoolDistance  avgSchoolRating  avgSchoolSize  \\\n",
              "0           1.266667         2.666667           1063   \n",
              "1           1.400000         2.666667           1063   \n",
              "2           1.200000         3.000000           1108   \n",
              "3           1.400000         2.666667           1063   \n",
              "4           1.133333         4.000000           1223   \n",
              "\n",
              "   MedianStudentsPerTeacher numOfBathrooms  numOfBedrooms  numOfStories  \\\n",
              "0                        14            3.0              4             2   \n",
              "1                        14            2.0              4             1   \n",
              "2                        14            2.0              3             1   \n",
              "3                        14            2.0              3             1   \n",
              "4                        14            3.0              3             2   \n",
              "\n",
              "                                           homeImage  \n",
              "0  111373431_ffce26843283d3365c11d81b8e6bdc6f-p_f...  \n",
              "1  120900430_8255c127be8dcf0a1a18b7563d987088-p_f...  \n",
              "2  2084491383_a2ad649e1a7a098111dcea084a11c855-p_...  \n",
              "3  120901374_b469367a619da85b1f5ceb69b675d88e-p_f...  \n",
              "4  60134862_b1a48a3df3f111e005bb913873e98ce2-p_f.jpg  \n",
              "\n",
              "[5 rows x 48 columns]"
            ],
            "text/html": [
              "\n",
              "  <div id=\"df-7c6cdc35-72be-4fb7-a404-81c46264d343\">\n",
              "    <div class=\"colab-df-container\">\n",
              "      <div>\n",
              "<style scoped>\n",
              "    .dataframe tbody tr th:only-of-type {\n",
              "        vertical-align: middle;\n",
              "    }\n",
              "\n",
              "    .dataframe tbody tr th {\n",
              "        vertical-align: top;\n",
              "    }\n",
              "\n",
              "    .dataframe thead th {\n",
              "        text-align: right;\n",
              "    }\n",
              "</style>\n",
              "<table border=\"1\" class=\"dataframe\">\n",
              "  <thead>\n",
              "    <tr style=\"text-align: right;\">\n",
              "      <th></th>\n",
              "      <th>index</th>\n",
              "      <th>zpid</th>\n",
              "      <th>city</th>\n",
              "      <th>streetAddress</th>\n",
              "      <th>zipcode</th>\n",
              "      <th>description</th>\n",
              "      <th>latitude</th>\n",
              "      <th>longitude</th>\n",
              "      <th>propertyTaxRate</th>\n",
              "      <th>garageSpaces</th>\n",
              "      <th>...</th>\n",
              "      <th>numOfMiddleSchools</th>\n",
              "      <th>numOfHighSchools</th>\n",
              "      <th>avgSchoolDistance</th>\n",
              "      <th>avgSchoolRating</th>\n",
              "      <th>avgSchoolSize</th>\n",
              "      <th>MedianStudentsPerTeacher</th>\n",
              "      <th>numOfBathrooms</th>\n",
              "      <th>numOfBedrooms</th>\n",
              "      <th>numOfStories</th>\n",
              "      <th>homeImage</th>\n",
              "    </tr>\n",
              "  </thead>\n",
              "  <tbody>\n",
              "    <tr>\n",
              "      <th>0</th>\n",
              "      <td>0</td>\n",
              "      <td>111373431</td>\n",
              "      <td>pflugerville</td>\n",
              "      <td>14424 Lake Victor Dr</td>\n",
              "      <td>78660</td>\n",
              "      <td>14424 Lake Victor Dr, Pflugerville, TX 78660 i...</td>\n",
              "      <td>30.430632</td>\n",
              "      <td>-97.663078</td>\n",
              "      <td>1.98</td>\n",
              "      <td>2</td>\n",
              "      <td>...</td>\n",
              "      <td>1</td>\n",
              "      <td>1</td>\n",
              "      <td>1.266667</td>\n",
              "      <td>2.666667</td>\n",
              "      <td>1063</td>\n",
              "      <td>14</td>\n",
              "      <td>3.0</td>\n",
              "      <td>4</td>\n",
              "      <td>2</td>\n",
              "      <td>111373431_ffce26843283d3365c11d81b8e6bdc6f-p_f...</td>\n",
              "    </tr>\n",
              "    <tr>\n",
              "      <th>1</th>\n",
              "      <td>1</td>\n",
              "      <td>120900430</td>\n",
              "      <td>pflugerville</td>\n",
              "      <td>1104 Strickling Dr</td>\n",
              "      <td>78660</td>\n",
              "      <td>Absolutely GORGEOUS 4 Bedroom home with 2 full...</td>\n",
              "      <td>30.432673</td>\n",
              "      <td>-97.661697</td>\n",
              "      <td>1.98</td>\n",
              "      <td>2</td>\n",
              "      <td>...</td>\n",
              "      <td>1</td>\n",
              "      <td>1</td>\n",
              "      <td>1.400000</td>\n",
              "      <td>2.666667</td>\n",
              "      <td>1063</td>\n",
              "      <td>14</td>\n",
              "      <td>2.0</td>\n",
              "      <td>4</td>\n",
              "      <td>1</td>\n",
              "      <td>120900430_8255c127be8dcf0a1a18b7563d987088-p_f...</td>\n",
              "    </tr>\n",
              "    <tr>\n",
              "      <th>2</th>\n",
              "      <td>2</td>\n",
              "      <td>2084491383</td>\n",
              "      <td>pflugerville</td>\n",
              "      <td>1408 Fort Dessau Rd</td>\n",
              "      <td>78660</td>\n",
              "      <td>Under construction - estimated completion in A...</td>\n",
              "      <td>30.409748</td>\n",
              "      <td>-97.639771</td>\n",
              "      <td>1.98</td>\n",
              "      <td>0</td>\n",
              "      <td>...</td>\n",
              "      <td>1</td>\n",
              "      <td>1</td>\n",
              "      <td>1.200000</td>\n",
              "      <td>3.000000</td>\n",
              "      <td>1108</td>\n",
              "      <td>14</td>\n",
              "      <td>2.0</td>\n",
              "      <td>3</td>\n",
              "      <td>1</td>\n",
              "      <td>2084491383_a2ad649e1a7a098111dcea084a11c855-p_...</td>\n",
              "    </tr>\n",
              "    <tr>\n",
              "      <th>3</th>\n",
              "      <td>3</td>\n",
              "      <td>120901374</td>\n",
              "      <td>pflugerville</td>\n",
              "      <td>1025 Strickling Dr</td>\n",
              "      <td>78660</td>\n",
              "      <td>Absolutely darling one story home in charming ...</td>\n",
              "      <td>30.432112</td>\n",
              "      <td>-97.661659</td>\n",
              "      <td>1.98</td>\n",
              "      <td>2</td>\n",
              "      <td>...</td>\n",
              "      <td>1</td>\n",
              "      <td>1</td>\n",
              "      <td>1.400000</td>\n",
              "      <td>2.666667</td>\n",
              "      <td>1063</td>\n",
              "      <td>14</td>\n",
              "      <td>2.0</td>\n",
              "      <td>3</td>\n",
              "      <td>1</td>\n",
              "      <td>120901374_b469367a619da85b1f5ceb69b675d88e-p_f...</td>\n",
              "    </tr>\n",
              "    <tr>\n",
              "      <th>4</th>\n",
              "      <td>4</td>\n",
              "      <td>60134862</td>\n",
              "      <td>pflugerville</td>\n",
              "      <td>15005 Donna Jane Loop</td>\n",
              "      <td>78660</td>\n",
              "      <td>Brimming with appeal &amp; warm livability! Sleek ...</td>\n",
              "      <td>30.437368</td>\n",
              "      <td>-97.656860</td>\n",
              "      <td>1.98</td>\n",
              "      <td>0</td>\n",
              "      <td>...</td>\n",
              "      <td>1</td>\n",
              "      <td>1</td>\n",
              "      <td>1.133333</td>\n",
              "      <td>4.000000</td>\n",
              "      <td>1223</td>\n",
              "      <td>14</td>\n",
              "      <td>3.0</td>\n",
              "      <td>3</td>\n",
              "      <td>2</td>\n",
              "      <td>60134862_b1a48a3df3f111e005bb913873e98ce2-p_f.jpg</td>\n",
              "    </tr>\n",
              "  </tbody>\n",
              "</table>\n",
              "<p>5 rows × 48 columns</p>\n",
              "</div>\n",
              "      <button class=\"colab-df-convert\" onclick=\"convertToInteractive('df-7c6cdc35-72be-4fb7-a404-81c46264d343')\"\n",
              "              title=\"Convert this dataframe to an interactive table.\"\n",
              "              style=\"display:none;\">\n",
              "        \n",
              "  <svg xmlns=\"http://www.w3.org/2000/svg\" height=\"24px\"viewBox=\"0 0 24 24\"\n",
              "       width=\"24px\">\n",
              "    <path d=\"M0 0h24v24H0V0z\" fill=\"none\"/>\n",
              "    <path d=\"M18.56 5.44l.94 2.06.94-2.06 2.06-.94-2.06-.94-.94-2.06-.94 2.06-2.06.94zm-11 1L8.5 8.5l.94-2.06 2.06-.94-2.06-.94L8.5 2.5l-.94 2.06-2.06.94zm10 10l.94 2.06.94-2.06 2.06-.94-2.06-.94-.94-2.06-.94 2.06-2.06.94z\"/><path d=\"M17.41 7.96l-1.37-1.37c-.4-.4-.92-.59-1.43-.59-.52 0-1.04.2-1.43.59L10.3 9.45l-7.72 7.72c-.78.78-.78 2.05 0 2.83L4 21.41c.39.39.9.59 1.41.59.51 0 1.02-.2 1.41-.59l7.78-7.78 2.81-2.81c.8-.78.8-2.07 0-2.86zM5.41 20L4 18.59l7.72-7.72 1.47 1.35L5.41 20z\"/>\n",
              "  </svg>\n",
              "      </button>\n",
              "      \n",
              "  <style>\n",
              "    .colab-df-container {\n",
              "      display:flex;\n",
              "      flex-wrap:wrap;\n",
              "      gap: 12px;\n",
              "    }\n",
              "\n",
              "    .colab-df-convert {\n",
              "      background-color: #E8F0FE;\n",
              "      border: none;\n",
              "      border-radius: 50%;\n",
              "      cursor: pointer;\n",
              "      display: none;\n",
              "      fill: #1967D2;\n",
              "      height: 32px;\n",
              "      padding: 0 0 0 0;\n",
              "      width: 32px;\n",
              "    }\n",
              "\n",
              "    .colab-df-convert:hover {\n",
              "      background-color: #E2EBFA;\n",
              "      box-shadow: 0px 1px 2px rgba(60, 64, 67, 0.3), 0px 1px 3px 1px rgba(60, 64, 67, 0.15);\n",
              "      fill: #174EA6;\n",
              "    }\n",
              "\n",
              "    [theme=dark] .colab-df-convert {\n",
              "      background-color: #3B4455;\n",
              "      fill: #D2E3FC;\n",
              "    }\n",
              "\n",
              "    [theme=dark] .colab-df-convert:hover {\n",
              "      background-color: #434B5C;\n",
              "      box-shadow: 0px 1px 3px 1px rgba(0, 0, 0, 0.15);\n",
              "      filter: drop-shadow(0px 1px 2px rgba(0, 0, 0, 0.3));\n",
              "      fill: #FFFFFF;\n",
              "    }\n",
              "  </style>\n",
              "\n",
              "      <script>\n",
              "        const buttonEl =\n",
              "          document.querySelector('#df-7c6cdc35-72be-4fb7-a404-81c46264d343 button.colab-df-convert');\n",
              "        buttonEl.style.display =\n",
              "          google.colab.kernel.accessAllowed ? 'block' : 'none';\n",
              "\n",
              "        async function convertToInteractive(key) {\n",
              "          const element = document.querySelector('#df-7c6cdc35-72be-4fb7-a404-81c46264d343');\n",
              "          const dataTable =\n",
              "            await google.colab.kernel.invokeFunction('convertToInteractive',\n",
              "                                                     [key], {});\n",
              "          if (!dataTable) return;\n",
              "\n",
              "          const docLinkHtml = 'Like what you see? Visit the ' +\n",
              "            '<a target=\"_blank\" href=https://colab.research.google.com/notebooks/data_table.ipynb>data table notebook</a>'\n",
              "            + ' to learn more about interactive tables.';\n",
              "          element.innerHTML = '';\n",
              "          dataTable['output_type'] = 'display_data';\n",
              "          await google.colab.output.renderOutput(dataTable, element);\n",
              "          const docLink = document.createElement('div');\n",
              "          docLink.innerHTML = docLinkHtml;\n",
              "          element.appendChild(docLink);\n",
              "        }\n",
              "      </script>\n",
              "    </div>\n",
              "  </div>\n",
              "  "
            ]
          },
          "metadata": {},
          "execution_count": 16
        }
      ]
    },
    {
      "cell_type": "code",
      "source": [
        "zipcodes = df[\"zipcode\"].unique()\n",
        "zipcodes"
      ],
      "metadata": {
        "id": "mF2HYylflNHD",
        "colab": {
          "base_uri": "https://localhost:8080/"
        },
        "outputId": "fc17e52e-621e-4454-b048-21be8b0058b8"
      },
      "execution_count": 17,
      "outputs": [
        {
          "output_type": "execute_result",
          "data": {
            "text/plain": [
              "array([78660, 78617, 78717, 78724, 78747, 78725, 78726, 78744, 78732,\n",
              "       78750, 78729, 78719, 78731, 78730, 78723, 78753, 78745, 78733,\n",
              "       78757, 78746, 78735, 78737, 78734, 78619, 78759, 78739, 78748,\n",
              "       78652, 78703, 78653, 78704, 78727, 78756, 78721, 78758, 78754,\n",
              "       78749, 78728, 78736, 78741, 78751, 78722, 78742, 78752, 78738,\n",
              "       78705, 78702, 78701])"
            ]
          },
          "metadata": {},
          "execution_count": 17
        }
      ]
    },
    {
      "cell_type": "code",
      "source": [
        "years = df[\"latest_saleyear\"].unique()\n",
        "years"
      ],
      "metadata": {
        "id": "w7KcLE6Pl3dS",
        "colab": {
          "base_uri": "https://localhost:8080/"
        },
        "outputId": "0ddcc368-85a0-463d-dfc6-1d14db25102e"
      },
      "execution_count": 18,
      "outputs": [
        {
          "output_type": "execute_result",
          "data": {
            "text/plain": [
              "array([2019, 2020, 2018, 2021])"
            ]
          },
          "metadata": {},
          "execution_count": 18
        }
      ]
    },
    {
      "cell_type": "code",
      "source": [
        "df2 = df[df[\"latest_saleyear\"] < 2020]\n",
        "df2.head()"
      ],
      "metadata": {
        "id": "v5E2zgBUl3Rr",
        "colab": {
          "base_uri": "https://localhost:8080/",
          "height": 595
        },
        "outputId": "b62a5409-266e-4110-aac6-bb8301fd7a5f"
      },
      "execution_count": 20,
      "outputs": [
        {
          "output_type": "execute_result",
          "data": {
            "text/plain": [
              "   index        zpid          city          streetAddress  zipcode  \\\n",
              "0      0   111373431  pflugerville   14424 Lake Victor Dr    78660   \n",
              "2      2  2084491383  pflugerville    1408 Fort Dessau Rd    78660   \n",
              "3      3   120901374  pflugerville     1025 Strickling Dr    78660   \n",
              "4      4    60134862  pflugerville  15005 Donna Jane Loop    78660   \n",
              "7      7    60134835  pflugerville     15009 Drusillas Dr    78660   \n",
              "\n",
              "                                         description   latitude  longitude  \\\n",
              "0  14424 Lake Victor Dr, Pflugerville, TX 78660 i...  30.430632 -97.663078   \n",
              "2  Under construction - estimated completion in A...  30.409748 -97.639771   \n",
              "3  Absolutely darling one story home in charming ...  30.432112 -97.661659   \n",
              "4  Brimming with appeal & warm livability! Sleek ...  30.437368 -97.656860   \n",
              "7  Wonderful home, freshly painted throughout, ne...  30.439404 -97.658035   \n",
              "\n",
              "   propertyTaxRate  garageSpaces  ...  numOfMiddleSchools  numOfHighSchools  \\\n",
              "0             1.98             2  ...                   1                 1   \n",
              "2             1.98             0  ...                   1                 1   \n",
              "3             1.98             2  ...                   1                 1   \n",
              "4             1.98             0  ...                   1                 1   \n",
              "7             1.98             0  ...                   1                 1   \n",
              "\n",
              "   avgSchoolDistance  avgSchoolRating  avgSchoolSize  \\\n",
              "0           1.266667         2.666667           1063   \n",
              "2           1.200000         3.000000           1108   \n",
              "3           1.400000         2.666667           1063   \n",
              "4           1.133333         4.000000           1223   \n",
              "7           1.166667         4.000000           1223   \n",
              "\n",
              "   MedianStudentsPerTeacher numOfBathrooms  numOfBedrooms  numOfStories  \\\n",
              "0                        14            3.0              4             2   \n",
              "2                        14            2.0              3             1   \n",
              "3                        14            2.0              3             1   \n",
              "4                        14            3.0              3             2   \n",
              "7                        14            3.0              3             2   \n",
              "\n",
              "                                           homeImage  \n",
              "0  111373431_ffce26843283d3365c11d81b8e6bdc6f-p_f...  \n",
              "2  2084491383_a2ad649e1a7a098111dcea084a11c855-p_...  \n",
              "3  120901374_b469367a619da85b1f5ceb69b675d88e-p_f...  \n",
              "4  60134862_b1a48a3df3f111e005bb913873e98ce2-p_f.jpg  \n",
              "7  60134835_47efc51704a66b45a8a134022ceeddb1-p_f.jpg  \n",
              "\n",
              "[5 rows x 48 columns]"
            ],
            "text/html": [
              "\n",
              "  <div id=\"df-d08d2475-ee36-46d4-8552-15982d27ce79\">\n",
              "    <div class=\"colab-df-container\">\n",
              "      <div>\n",
              "<style scoped>\n",
              "    .dataframe tbody tr th:only-of-type {\n",
              "        vertical-align: middle;\n",
              "    }\n",
              "\n",
              "    .dataframe tbody tr th {\n",
              "        vertical-align: top;\n",
              "    }\n",
              "\n",
              "    .dataframe thead th {\n",
              "        text-align: right;\n",
              "    }\n",
              "</style>\n",
              "<table border=\"1\" class=\"dataframe\">\n",
              "  <thead>\n",
              "    <tr style=\"text-align: right;\">\n",
              "      <th></th>\n",
              "      <th>index</th>\n",
              "      <th>zpid</th>\n",
              "      <th>city</th>\n",
              "      <th>streetAddress</th>\n",
              "      <th>zipcode</th>\n",
              "      <th>description</th>\n",
              "      <th>latitude</th>\n",
              "      <th>longitude</th>\n",
              "      <th>propertyTaxRate</th>\n",
              "      <th>garageSpaces</th>\n",
              "      <th>...</th>\n",
              "      <th>numOfMiddleSchools</th>\n",
              "      <th>numOfHighSchools</th>\n",
              "      <th>avgSchoolDistance</th>\n",
              "      <th>avgSchoolRating</th>\n",
              "      <th>avgSchoolSize</th>\n",
              "      <th>MedianStudentsPerTeacher</th>\n",
              "      <th>numOfBathrooms</th>\n",
              "      <th>numOfBedrooms</th>\n",
              "      <th>numOfStories</th>\n",
              "      <th>homeImage</th>\n",
              "    </tr>\n",
              "  </thead>\n",
              "  <tbody>\n",
              "    <tr>\n",
              "      <th>0</th>\n",
              "      <td>0</td>\n",
              "      <td>111373431</td>\n",
              "      <td>pflugerville</td>\n",
              "      <td>14424 Lake Victor Dr</td>\n",
              "      <td>78660</td>\n",
              "      <td>14424 Lake Victor Dr, Pflugerville, TX 78660 i...</td>\n",
              "      <td>30.430632</td>\n",
              "      <td>-97.663078</td>\n",
              "      <td>1.98</td>\n",
              "      <td>2</td>\n",
              "      <td>...</td>\n",
              "      <td>1</td>\n",
              "      <td>1</td>\n",
              "      <td>1.266667</td>\n",
              "      <td>2.666667</td>\n",
              "      <td>1063</td>\n",
              "      <td>14</td>\n",
              "      <td>3.0</td>\n",
              "      <td>4</td>\n",
              "      <td>2</td>\n",
              "      <td>111373431_ffce26843283d3365c11d81b8e6bdc6f-p_f...</td>\n",
              "    </tr>\n",
              "    <tr>\n",
              "      <th>2</th>\n",
              "      <td>2</td>\n",
              "      <td>2084491383</td>\n",
              "      <td>pflugerville</td>\n",
              "      <td>1408 Fort Dessau Rd</td>\n",
              "      <td>78660</td>\n",
              "      <td>Under construction - estimated completion in A...</td>\n",
              "      <td>30.409748</td>\n",
              "      <td>-97.639771</td>\n",
              "      <td>1.98</td>\n",
              "      <td>0</td>\n",
              "      <td>...</td>\n",
              "      <td>1</td>\n",
              "      <td>1</td>\n",
              "      <td>1.200000</td>\n",
              "      <td>3.000000</td>\n",
              "      <td>1108</td>\n",
              "      <td>14</td>\n",
              "      <td>2.0</td>\n",
              "      <td>3</td>\n",
              "      <td>1</td>\n",
              "      <td>2084491383_a2ad649e1a7a098111dcea084a11c855-p_...</td>\n",
              "    </tr>\n",
              "    <tr>\n",
              "      <th>3</th>\n",
              "      <td>3</td>\n",
              "      <td>120901374</td>\n",
              "      <td>pflugerville</td>\n",
              "      <td>1025 Strickling Dr</td>\n",
              "      <td>78660</td>\n",
              "      <td>Absolutely darling one story home in charming ...</td>\n",
              "      <td>30.432112</td>\n",
              "      <td>-97.661659</td>\n",
              "      <td>1.98</td>\n",
              "      <td>2</td>\n",
              "      <td>...</td>\n",
              "      <td>1</td>\n",
              "      <td>1</td>\n",
              "      <td>1.400000</td>\n",
              "      <td>2.666667</td>\n",
              "      <td>1063</td>\n",
              "      <td>14</td>\n",
              "      <td>2.0</td>\n",
              "      <td>3</td>\n",
              "      <td>1</td>\n",
              "      <td>120901374_b469367a619da85b1f5ceb69b675d88e-p_f...</td>\n",
              "    </tr>\n",
              "    <tr>\n",
              "      <th>4</th>\n",
              "      <td>4</td>\n",
              "      <td>60134862</td>\n",
              "      <td>pflugerville</td>\n",
              "      <td>15005 Donna Jane Loop</td>\n",
              "      <td>78660</td>\n",
              "      <td>Brimming with appeal &amp; warm livability! Sleek ...</td>\n",
              "      <td>30.437368</td>\n",
              "      <td>-97.656860</td>\n",
              "      <td>1.98</td>\n",
              "      <td>0</td>\n",
              "      <td>...</td>\n",
              "      <td>1</td>\n",
              "      <td>1</td>\n",
              "      <td>1.133333</td>\n",
              "      <td>4.000000</td>\n",
              "      <td>1223</td>\n",
              "      <td>14</td>\n",
              "      <td>3.0</td>\n",
              "      <td>3</td>\n",
              "      <td>2</td>\n",
              "      <td>60134862_b1a48a3df3f111e005bb913873e98ce2-p_f.jpg</td>\n",
              "    </tr>\n",
              "    <tr>\n",
              "      <th>7</th>\n",
              "      <td>7</td>\n",
              "      <td>60134835</td>\n",
              "      <td>pflugerville</td>\n",
              "      <td>15009 Drusillas Dr</td>\n",
              "      <td>78660</td>\n",
              "      <td>Wonderful home, freshly painted throughout, ne...</td>\n",
              "      <td>30.439404</td>\n",
              "      <td>-97.658035</td>\n",
              "      <td>1.98</td>\n",
              "      <td>0</td>\n",
              "      <td>...</td>\n",
              "      <td>1</td>\n",
              "      <td>1</td>\n",
              "      <td>1.166667</td>\n",
              "      <td>4.000000</td>\n",
              "      <td>1223</td>\n",
              "      <td>14</td>\n",
              "      <td>3.0</td>\n",
              "      <td>3</td>\n",
              "      <td>2</td>\n",
              "      <td>60134835_47efc51704a66b45a8a134022ceeddb1-p_f.jpg</td>\n",
              "    </tr>\n",
              "  </tbody>\n",
              "</table>\n",
              "<p>5 rows × 48 columns</p>\n",
              "</div>\n",
              "      <button class=\"colab-df-convert\" onclick=\"convertToInteractive('df-d08d2475-ee36-46d4-8552-15982d27ce79')\"\n",
              "              title=\"Convert this dataframe to an interactive table.\"\n",
              "              style=\"display:none;\">\n",
              "        \n",
              "  <svg xmlns=\"http://www.w3.org/2000/svg\" height=\"24px\"viewBox=\"0 0 24 24\"\n",
              "       width=\"24px\">\n",
              "    <path d=\"M0 0h24v24H0V0z\" fill=\"none\"/>\n",
              "    <path d=\"M18.56 5.44l.94 2.06.94-2.06 2.06-.94-2.06-.94-.94-2.06-.94 2.06-2.06.94zm-11 1L8.5 8.5l.94-2.06 2.06-.94-2.06-.94L8.5 2.5l-.94 2.06-2.06.94zm10 10l.94 2.06.94-2.06 2.06-.94-2.06-.94-.94-2.06-.94 2.06-2.06.94z\"/><path d=\"M17.41 7.96l-1.37-1.37c-.4-.4-.92-.59-1.43-.59-.52 0-1.04.2-1.43.59L10.3 9.45l-7.72 7.72c-.78.78-.78 2.05 0 2.83L4 21.41c.39.39.9.59 1.41.59.51 0 1.02-.2 1.41-.59l7.78-7.78 2.81-2.81c.8-.78.8-2.07 0-2.86zM5.41 20L4 18.59l7.72-7.72 1.47 1.35L5.41 20z\"/>\n",
              "  </svg>\n",
              "      </button>\n",
              "      \n",
              "  <style>\n",
              "    .colab-df-container {\n",
              "      display:flex;\n",
              "      flex-wrap:wrap;\n",
              "      gap: 12px;\n",
              "    }\n",
              "\n",
              "    .colab-df-convert {\n",
              "      background-color: #E8F0FE;\n",
              "      border: none;\n",
              "      border-radius: 50%;\n",
              "      cursor: pointer;\n",
              "      display: none;\n",
              "      fill: #1967D2;\n",
              "      height: 32px;\n",
              "      padding: 0 0 0 0;\n",
              "      width: 32px;\n",
              "    }\n",
              "\n",
              "    .colab-df-convert:hover {\n",
              "      background-color: #E2EBFA;\n",
              "      box-shadow: 0px 1px 2px rgba(60, 64, 67, 0.3), 0px 1px 3px 1px rgba(60, 64, 67, 0.15);\n",
              "      fill: #174EA6;\n",
              "    }\n",
              "\n",
              "    [theme=dark] .colab-df-convert {\n",
              "      background-color: #3B4455;\n",
              "      fill: #D2E3FC;\n",
              "    }\n",
              "\n",
              "    [theme=dark] .colab-df-convert:hover {\n",
              "      background-color: #434B5C;\n",
              "      box-shadow: 0px 1px 3px 1px rgba(0, 0, 0, 0.15);\n",
              "      filter: drop-shadow(0px 1px 2px rgba(0, 0, 0, 0.3));\n",
              "      fill: #FFFFFF;\n",
              "    }\n",
              "  </style>\n",
              "\n",
              "      <script>\n",
              "        const buttonEl =\n",
              "          document.querySelector('#df-d08d2475-ee36-46d4-8552-15982d27ce79 button.colab-df-convert');\n",
              "        buttonEl.style.display =\n",
              "          google.colab.kernel.accessAllowed ? 'block' : 'none';\n",
              "\n",
              "        async function convertToInteractive(key) {\n",
              "          const element = document.querySelector('#df-d08d2475-ee36-46d4-8552-15982d27ce79');\n",
              "          const dataTable =\n",
              "            await google.colab.kernel.invokeFunction('convertToInteractive',\n",
              "                                                     [key], {});\n",
              "          if (!dataTable) return;\n",
              "\n",
              "          const docLinkHtml = 'Like what you see? Visit the ' +\n",
              "            '<a target=\"_blank\" href=https://colab.research.google.com/notebooks/data_table.ipynb>data table notebook</a>'\n",
              "            + ' to learn more about interactive tables.';\n",
              "          element.innerHTML = '';\n",
              "          dataTable['output_type'] = 'display_data';\n",
              "          await google.colab.output.renderOutput(dataTable, element);\n",
              "          const docLink = document.createElement('div');\n",
              "          docLink.innerHTML = docLinkHtml;\n",
              "          element.appendChild(docLink);\n",
              "        }\n",
              "      </script>\n",
              "    </div>\n",
              "  </div>\n",
              "  "
            ]
          },
          "metadata": {},
          "execution_count": 20
        }
      ]
    },
    {
      "cell_type": "code",
      "source": [
        "years2 = df2[\"latest_saleyear\"].unique()\n",
        "years2"
      ],
      "metadata": {
        "colab": {
          "base_uri": "https://localhost:8080/"
        },
        "id": "l4fQSMQ41sTx",
        "outputId": "a32d2bb7-9c53-41d3-d1a1-7ac031d2edf4"
      },
      "execution_count": 21,
      "outputs": [
        {
          "output_type": "execute_result",
          "data": {
            "text/plain": [
              "array([2019, 2018])"
            ]
          },
          "metadata": {},
          "execution_count": 21
        }
      ]
    },
    {
      "cell_type": "code",
      "source": [
        "zipcodes2 = df2[\"zipcode\"].unique()\n",
        "zipcodes2"
      ],
      "metadata": {
        "colab": {
          "base_uri": "https://localhost:8080/"
        },
        "id": "A0FqtnmW1sKx",
        "outputId": "bb6b1acf-b08c-4278-88c7-1d7426351f97"
      },
      "execution_count": 22,
      "outputs": [
        {
          "output_type": "execute_result",
          "data": {
            "text/plain": [
              "array([78660, 78617, 78717, 78747, 78725, 78744, 78726, 78732, 78724,\n",
              "       78729, 78731, 78750, 78730, 78753, 78733, 78746, 78745, 78735,\n",
              "       78734, 78737, 78719, 78759, 78619, 78748, 78739, 78757, 78703,\n",
              "       78653, 78704, 78756, 78721, 78758, 78754, 78749, 78728, 78736,\n",
              "       78727, 78742, 78741, 78752, 78738, 78705, 78702, 78701, 78722,\n",
              "       78723, 78751])"
            ]
          },
          "metadata": {},
          "execution_count": 22
        }
      ]
    },
    {
      "cell_type": "code",
      "source": [
        "per_zipcodes = df2[\"zipcode\"].value_counts()\n",
        "per_zipcodes"
      ],
      "metadata": {
        "colab": {
          "base_uri": "https://localhost:8080/"
        },
        "id": "C5hC1Od71sAN",
        "outputId": "501b7a3a-da22-4359-ae83-5c84ec3e0528"
      },
      "execution_count": 23,
      "outputs": [
        {
          "output_type": "execute_result",
          "data": {
            "text/plain": [
              "78748    717\n",
              "78745    632\n",
              "78749    506\n",
              "78739    405\n",
              "78704    403\n",
              "78732    377\n",
              "78759    377\n",
              "78737    359\n",
              "78717    345\n",
              "78757    331\n",
              "78731    329\n",
              "78723    327\n",
              "78753    315\n",
              "78754    280\n",
              "78744    277\n",
              "78727    265\n",
              "78758    251\n",
              "78747    247\n",
              "78702    240\n",
              "78729    219\n",
              "78735    215\n",
              "78750    215\n",
              "78703    204\n",
              "78730    154\n",
              "78721    151\n",
              "78733    147\n",
              "78724    143\n",
              "78741    135\n",
              "78728    135\n",
              "78746    129\n",
              "78751    117\n",
              "78725    110\n",
              "78752    105\n",
              "78726    105\n",
              "78736     92\n",
              "78756     89\n",
              "78722     65\n",
              "78617     62\n",
              "78705     52\n",
              "78660     20\n",
              "78619      7\n",
              "78701      7\n",
              "78734      5\n",
              "78653      2\n",
              "78742      2\n",
              "78719      1\n",
              "78738      1\n",
              "Name: zipcode, dtype: int64"
            ]
          },
          "metadata": {},
          "execution_count": 23
        }
      ]
    },
    {
      "cell_type": "code",
      "source": [
        ""
      ],
      "metadata": {
        "id": "uUjuqKz43Q5m"
      },
      "execution_count": null,
      "outputs": []
    },
    {
      "cell_type": "code",
      "source": [
        ""
      ],
      "metadata": {
        "id": "gwz1GsSQ3Qnh"
      },
      "execution_count": null,
      "outputs": []
    },
    {
      "cell_type": "code",
      "source": [
        ""
      ],
      "metadata": {
        "id": "B1okmqxH3QYc"
      },
      "execution_count": null,
      "outputs": []
    }
  ]
}