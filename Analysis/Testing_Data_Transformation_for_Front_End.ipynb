{
  "nbformat": 4,
  "nbformat_minor": 0,
  "metadata": {
    "colab": {
      "name": "Testing Data Transformation for Front End",
      "provenance": [],
      "collapsed_sections": [],
      "authorship_tag": "ABX9TyP/hGPxjdWIHpxPLjHux/Tl",
      "include_colab_link": true
    },
    "kernelspec": {
      "name": "python3",
      "display_name": "Python 3"
    },
    "language_info": {
      "name": "python"
    }
  },
  "cells": [
    {
      "cell_type": "markdown",
      "metadata": {
        "id": "view-in-github",
        "colab_type": "text"
      },
      "source": [
        "<a href=\"https://colab.research.google.com/github/raneymjohnGit/Austin_TX_House_Listings/blob/jayanbranch/Analysis/Testing_Data_Transformation_for_Front_End.ipynb\" target=\"_parent\"><img src=\"https://colab.research.google.com/assets/colab-badge.svg\" alt=\"Open In Colab\"/></a>"
      ]
    },
    {
      "cell_type": "code",
      "source": [
        "# Copy paste this code\n",
        "# Install psycopg2-binary\n",
        "! pip install psycopg2-binary "
      ],
      "metadata": {
        "colab": {
          "base_uri": "https://localhost:8080/"
        },
        "id": "zUtcNHT1kokd",
        "outputId": "6c9b0fd2-6432-4008-d1bc-876ac1ea316a"
      },
      "execution_count": null,
      "outputs": [
        {
          "output_type": "stream",
          "name": "stdout",
          "text": [
            "Looking in indexes: https://pypi.org/simple, https://us-python.pkg.dev/colab-wheels/public/simple/\n",
            "Collecting psycopg2-binary\n",
            "  Downloading psycopg2_binary-2.9.3-cp37-cp37m-manylinux_2_17_x86_64.manylinux2014_x86_64.whl (3.0 MB)\n",
            "\u001b[K     |████████████████████████████████| 3.0 MB 11.2 MB/s \n",
            "\u001b[?25hInstalling collected packages: psycopg2-binary\n",
            "Successfully installed psycopg2-binary-2.9.3\n"
          ]
        }
      ]
    },
    {
      "cell_type": "code",
      "source": [
        "# Copy paste this code\n",
        "# URL for Heroku DB\n",
        "raw_db_url='dpaclsxjrpfluk:4fa14e6fdb846bd14d1a9eda261d554fab9688f2f4dd5483bc38d94cdee010ad@ec2-3-219-52-220.compute-1.amazonaws.com:5432/d7s0s0hs0a5lar'"
      ],
      "metadata": {
        "id": "i3PHsqh0kwrk"
      },
      "execution_count": null,
      "outputs": []
    },
    {
      "cell_type": "code",
      "source": [
        " # Copy paste this code\n",
        " # Import SQL Alchemy, format url string for SQLAlchemy\n",
        " \n",
        "import subprocess\n",
        "from sqlalchemy.engine.create import create_engine\n",
        "\n",
        "# Convert binary string to a regular string & remove the newline character\n",
        "db_url = raw_db_url\n",
        "\n",
        "# Convert \"postgres://<db_address>\"  --> \"postgresql+psycopg2://<db_address>\" needed for SQLAlchemy\n",
        "final_db_url = \"postgresql+psycopg2://\" + db_url.lstrip(\"postgres://\")  # lstrip() is more suitable here than replace() function since we only want to replace postgres at the start!\n",
        "\n",
        "\n",
        "# Create SQLAlchemy engine\n",
        "# ------------------------\n",
        "engine = create_engine(final_db_url)"
      ],
      "metadata": {
        "id": "4Nz8qHILl7pE"
      },
      "execution_count": null,
      "outputs": []
    },
    {
      "cell_type": "markdown",
      "source": [
        "# Read in cleaned data from SQL as DataFrame"
      ],
      "metadata": {
        "id": "OpdVxnx9DctO"
      }
    },
    {
      "cell_type": "code",
      "source": [
        "# SQL to dataframe using sqlalchemy\n",
        "import pandas as pd\n",
        "\n",
        "df = pd.read_sql_table('cleaned_data_1', engine)\n",
        "df.head()"
      ],
      "metadata": {
        "colab": {
          "base_uri": "https://localhost:8080/",
          "height": 612
        },
        "id": "ZcAYXCusDlnY",
        "outputId": "48ffa1cd-d4fa-47e4-df24-778ff18fc068"
      },
      "execution_count": null,
      "outputs": [
        {
          "output_type": "execute_result",
          "data": {
            "text/plain": [
              "   index      zpid    city        streetAddress  zipcode  \\\n",
              "0   6702  29415933  austin      5804 Bullard Dr    78757   \n",
              "1   4729  58304707  austin  823 Walnut Creek Dr    78753   \n",
              "2   7501  29482307  austin      4410 Garnett St    78745   \n",
              "3   5146  29513449  austin   11412 Gun Fight Ln    78748   \n",
              "4   5256  29479870  austin        1311 Casey St    78745   \n",
              "\n",
              "                                         description   latitude  longitude  \\\n",
              "0  5804 Bullard Dr, Austin, TX 78757 is a single ...  30.336634 -97.750031   \n",
              "1  823 Walnut Creek Dr, Austin, TX 78753 is a sin...  30.386883 -97.668449   \n",
              "2  Complete remodel of a gorgeous vintage home. O...  30.218693 -97.770554   \n",
              "3  Large move-in ready Shady Hollow home loaded w...  30.162312 -97.854210   \n",
              "4  1311 Casey St, Austin, TX 78745 is a single fa...  30.225712 -97.781837   \n",
              "\n",
              "   propertyTaxRate  garageSpaces  ...  avgSchoolSize  \\\n",
              "0             1.98             3  ...           1153   \n",
              "1             1.98             3  ...            814   \n",
              "2             1.98             3  ...            792   \n",
              "3             1.98             3  ...           1633   \n",
              "4             1.98             3  ...            803   \n",
              "\n",
              "   MedianStudentsPerTeacher  numOfBathrooms  numOfBedrooms  numOfStories  \\\n",
              "0                        16             2.0              3             1   \n",
              "1                        15             2.0              3             1   \n",
              "2                        13             2.0              4             1   \n",
              "3                        17             4.0              5             2   \n",
              "4                        12             2.0              3             1   \n",
              "\n",
              "   month_year latest_saledate_dt  dec_2019_price  jan_2021_price  \\\n",
              "0     2019-06         2019-06-21          470317          547114   \n",
              "1     2019-02         2019-02-27          418299          486603   \n",
              "2     2019-07         2019-07-02          598560          696298   \n",
              "3     2019-03         2019-03-20          481300          559890   \n",
              "4     2019-03         2019-03-11          374344          435470   \n",
              "\n",
              "   price_per_sqft  \n",
              "0             202  \n",
              "1             211  \n",
              "2             343  \n",
              "3             137  \n",
              "4             300  \n",
              "\n",
              "[5 rows x 49 columns]"
            ],
            "text/html": [
              "\n",
              "  <div id=\"df-db28ae8d-32fd-44b3-9778-1828e2c747a6\">\n",
              "    <div class=\"colab-df-container\">\n",
              "      <div>\n",
              "<style scoped>\n",
              "    .dataframe tbody tr th:only-of-type {\n",
              "        vertical-align: middle;\n",
              "    }\n",
              "\n",
              "    .dataframe tbody tr th {\n",
              "        vertical-align: top;\n",
              "    }\n",
              "\n",
              "    .dataframe thead th {\n",
              "        text-align: right;\n",
              "    }\n",
              "</style>\n",
              "<table border=\"1\" class=\"dataframe\">\n",
              "  <thead>\n",
              "    <tr style=\"text-align: right;\">\n",
              "      <th></th>\n",
              "      <th>index</th>\n",
              "      <th>zpid</th>\n",
              "      <th>city</th>\n",
              "      <th>streetAddress</th>\n",
              "      <th>zipcode</th>\n",
              "      <th>description</th>\n",
              "      <th>latitude</th>\n",
              "      <th>longitude</th>\n",
              "      <th>propertyTaxRate</th>\n",
              "      <th>garageSpaces</th>\n",
              "      <th>...</th>\n",
              "      <th>avgSchoolSize</th>\n",
              "      <th>MedianStudentsPerTeacher</th>\n",
              "      <th>numOfBathrooms</th>\n",
              "      <th>numOfBedrooms</th>\n",
              "      <th>numOfStories</th>\n",
              "      <th>month_year</th>\n",
              "      <th>latest_saledate_dt</th>\n",
              "      <th>dec_2019_price</th>\n",
              "      <th>jan_2021_price</th>\n",
              "      <th>price_per_sqft</th>\n",
              "    </tr>\n",
              "  </thead>\n",
              "  <tbody>\n",
              "    <tr>\n",
              "      <th>0</th>\n",
              "      <td>6702</td>\n",
              "      <td>29415933</td>\n",
              "      <td>austin</td>\n",
              "      <td>5804 Bullard Dr</td>\n",
              "      <td>78757</td>\n",
              "      <td>5804 Bullard Dr, Austin, TX 78757 is a single ...</td>\n",
              "      <td>30.336634</td>\n",
              "      <td>-97.750031</td>\n",
              "      <td>1.98</td>\n",
              "      <td>3</td>\n",
              "      <td>...</td>\n",
              "      <td>1153</td>\n",
              "      <td>16</td>\n",
              "      <td>2.0</td>\n",
              "      <td>3</td>\n",
              "      <td>1</td>\n",
              "      <td>2019-06</td>\n",
              "      <td>2019-06-21</td>\n",
              "      <td>470317</td>\n",
              "      <td>547114</td>\n",
              "      <td>202</td>\n",
              "    </tr>\n",
              "    <tr>\n",
              "      <th>1</th>\n",
              "      <td>4729</td>\n",
              "      <td>58304707</td>\n",
              "      <td>austin</td>\n",
              "      <td>823 Walnut Creek Dr</td>\n",
              "      <td>78753</td>\n",
              "      <td>823 Walnut Creek Dr, Austin, TX 78753 is a sin...</td>\n",
              "      <td>30.386883</td>\n",
              "      <td>-97.668449</td>\n",
              "      <td>1.98</td>\n",
              "      <td>3</td>\n",
              "      <td>...</td>\n",
              "      <td>814</td>\n",
              "      <td>15</td>\n",
              "      <td>2.0</td>\n",
              "      <td>3</td>\n",
              "      <td>1</td>\n",
              "      <td>2019-02</td>\n",
              "      <td>2019-02-27</td>\n",
              "      <td>418299</td>\n",
              "      <td>486603</td>\n",
              "      <td>211</td>\n",
              "    </tr>\n",
              "    <tr>\n",
              "      <th>2</th>\n",
              "      <td>7501</td>\n",
              "      <td>29482307</td>\n",
              "      <td>austin</td>\n",
              "      <td>4410 Garnett St</td>\n",
              "      <td>78745</td>\n",
              "      <td>Complete remodel of a gorgeous vintage home. O...</td>\n",
              "      <td>30.218693</td>\n",
              "      <td>-97.770554</td>\n",
              "      <td>1.98</td>\n",
              "      <td>3</td>\n",
              "      <td>...</td>\n",
              "      <td>792</td>\n",
              "      <td>13</td>\n",
              "      <td>2.0</td>\n",
              "      <td>4</td>\n",
              "      <td>1</td>\n",
              "      <td>2019-07</td>\n",
              "      <td>2019-07-02</td>\n",
              "      <td>598560</td>\n",
              "      <td>696298</td>\n",
              "      <td>343</td>\n",
              "    </tr>\n",
              "    <tr>\n",
              "      <th>3</th>\n",
              "      <td>5146</td>\n",
              "      <td>29513449</td>\n",
              "      <td>austin</td>\n",
              "      <td>11412 Gun Fight Ln</td>\n",
              "      <td>78748</td>\n",
              "      <td>Large move-in ready Shady Hollow home loaded w...</td>\n",
              "      <td>30.162312</td>\n",
              "      <td>-97.854210</td>\n",
              "      <td>1.98</td>\n",
              "      <td>3</td>\n",
              "      <td>...</td>\n",
              "      <td>1633</td>\n",
              "      <td>17</td>\n",
              "      <td>4.0</td>\n",
              "      <td>5</td>\n",
              "      <td>2</td>\n",
              "      <td>2019-03</td>\n",
              "      <td>2019-03-20</td>\n",
              "      <td>481300</td>\n",
              "      <td>559890</td>\n",
              "      <td>137</td>\n",
              "    </tr>\n",
              "    <tr>\n",
              "      <th>4</th>\n",
              "      <td>5256</td>\n",
              "      <td>29479870</td>\n",
              "      <td>austin</td>\n",
              "      <td>1311 Casey St</td>\n",
              "      <td>78745</td>\n",
              "      <td>1311 Casey St, Austin, TX 78745 is a single fa...</td>\n",
              "      <td>30.225712</td>\n",
              "      <td>-97.781837</td>\n",
              "      <td>1.98</td>\n",
              "      <td>3</td>\n",
              "      <td>...</td>\n",
              "      <td>803</td>\n",
              "      <td>12</td>\n",
              "      <td>2.0</td>\n",
              "      <td>3</td>\n",
              "      <td>1</td>\n",
              "      <td>2019-03</td>\n",
              "      <td>2019-03-11</td>\n",
              "      <td>374344</td>\n",
              "      <td>435470</td>\n",
              "      <td>300</td>\n",
              "    </tr>\n",
              "  </tbody>\n",
              "</table>\n",
              "<p>5 rows × 49 columns</p>\n",
              "</div>\n",
              "      <button class=\"colab-df-convert\" onclick=\"convertToInteractive('df-db28ae8d-32fd-44b3-9778-1828e2c747a6')\"\n",
              "              title=\"Convert this dataframe to an interactive table.\"\n",
              "              style=\"display:none;\">\n",
              "        \n",
              "  <svg xmlns=\"http://www.w3.org/2000/svg\" height=\"24px\"viewBox=\"0 0 24 24\"\n",
              "       width=\"24px\">\n",
              "    <path d=\"M0 0h24v24H0V0z\" fill=\"none\"/>\n",
              "    <path d=\"M18.56 5.44l.94 2.06.94-2.06 2.06-.94-2.06-.94-.94-2.06-.94 2.06-2.06.94zm-11 1L8.5 8.5l.94-2.06 2.06-.94-2.06-.94L8.5 2.5l-.94 2.06-2.06.94zm10 10l.94 2.06.94-2.06 2.06-.94-2.06-.94-.94-2.06-.94 2.06-2.06.94z\"/><path d=\"M17.41 7.96l-1.37-1.37c-.4-.4-.92-.59-1.43-.59-.52 0-1.04.2-1.43.59L10.3 9.45l-7.72 7.72c-.78.78-.78 2.05 0 2.83L4 21.41c.39.39.9.59 1.41.59.51 0 1.02-.2 1.41-.59l7.78-7.78 2.81-2.81c.8-.78.8-2.07 0-2.86zM5.41 20L4 18.59l7.72-7.72 1.47 1.35L5.41 20z\"/>\n",
              "  </svg>\n",
              "      </button>\n",
              "      \n",
              "  <style>\n",
              "    .colab-df-container {\n",
              "      display:flex;\n",
              "      flex-wrap:wrap;\n",
              "      gap: 12px;\n",
              "    }\n",
              "\n",
              "    .colab-df-convert {\n",
              "      background-color: #E8F0FE;\n",
              "      border: none;\n",
              "      border-radius: 50%;\n",
              "      cursor: pointer;\n",
              "      display: none;\n",
              "      fill: #1967D2;\n",
              "      height: 32px;\n",
              "      padding: 0 0 0 0;\n",
              "      width: 32px;\n",
              "    }\n",
              "\n",
              "    .colab-df-convert:hover {\n",
              "      background-color: #E2EBFA;\n",
              "      box-shadow: 0px 1px 2px rgba(60, 64, 67, 0.3), 0px 1px 3px 1px rgba(60, 64, 67, 0.15);\n",
              "      fill: #174EA6;\n",
              "    }\n",
              "\n",
              "    [theme=dark] .colab-df-convert {\n",
              "      background-color: #3B4455;\n",
              "      fill: #D2E3FC;\n",
              "    }\n",
              "\n",
              "    [theme=dark] .colab-df-convert:hover {\n",
              "      background-color: #434B5C;\n",
              "      box-shadow: 0px 1px 3px 1px rgba(0, 0, 0, 0.15);\n",
              "      filter: drop-shadow(0px 1px 2px rgba(0, 0, 0, 0.3));\n",
              "      fill: #FFFFFF;\n",
              "    }\n",
              "  </style>\n",
              "\n",
              "      <script>\n",
              "        const buttonEl =\n",
              "          document.querySelector('#df-db28ae8d-32fd-44b3-9778-1828e2c747a6 button.colab-df-convert');\n",
              "        buttonEl.style.display =\n",
              "          google.colab.kernel.accessAllowed ? 'block' : 'none';\n",
              "\n",
              "        async function convertToInteractive(key) {\n",
              "          const element = document.querySelector('#df-db28ae8d-32fd-44b3-9778-1828e2c747a6');\n",
              "          const dataTable =\n",
              "            await google.colab.kernel.invokeFunction('convertToInteractive',\n",
              "                                                     [key], {});\n",
              "          if (!dataTable) return;\n",
              "\n",
              "          const docLinkHtml = 'Like what you see? Visit the ' +\n",
              "            '<a target=\"_blank\" href=https://colab.research.google.com/notebooks/data_table.ipynb>data table notebook</a>'\n",
              "            + ' to learn more about interactive tables.';\n",
              "          element.innerHTML = '';\n",
              "          dataTable['output_type'] = 'display_data';\n",
              "          await google.colab.output.renderOutput(dataTable, element);\n",
              "          const docLink = document.createElement('div');\n",
              "          docLink.innerHTML = docLinkHtml;\n",
              "          element.appendChild(docLink);\n",
              "        }\n",
              "      </script>\n",
              "    </div>\n",
              "  </div>\n",
              "  "
            ]
          },
          "metadata": {},
          "execution_count": 17
        }
      ]
    },
    {
      "cell_type": "code",
      "source": [
        "# Drop non-numeric columns that will not be used for models, erroneus columns like index and jan_2021_price, and columns that are calculated from variables like price_per_sqft\n",
        "\n",
        "df = df.drop(columns=['zpid', 'index', 'city', 'streetAddress', 'description', 'latest_saledate', 'latest_salemonth', 'latest_saleyear', 'month_year', 'latest_saledate_dt', 'jan_2021_price', 'price_per_sqft', 'homeType', 'latestprice'])\n"
      ],
      "metadata": {
        "id": "1QxfFasWDzay"
      },
      "execution_count": null,
      "outputs": []
    },
    {
      "cell_type": "code",
      "source": [
        "df['zipcode'] = df['zipcode'].astype(str)"
      ],
      "metadata": {
        "id": "Bv31pk_7pyoM"
      },
      "execution_count": null,
      "outputs": []
    },
    {
      "cell_type": "code",
      "source": [
        "import pandas as pd # data processing\n",
        "import numpy as np # working with arrays\n",
        "import matplotlib.pyplot as plt # visualization\n",
        "import seaborn as sb # visualization\n",
        "from termcolor import colored as cl # text customization\n",
        "\n",
        "from sklearn.model_selection import train_test_split # data split\n",
        "from sklearn.compose import ColumnTransformer \n",
        "from sklearn.pipeline import Pipeline\n",
        "from sklearn.ensemble import RandomForestRegressor\n",
        "from sklearn.metrics import explained_variance_score as evs # evaluation metric\n",
        "from sklearn.metrics import r2_score as r2 # evaluation metric\n",
        "from sklearn.model_selection import train_test_split\n",
        "from sklearn.preprocessing import OneHotEncoder"
      ],
      "metadata": {
        "id": "F5sSH_RGp6rb"
      },
      "execution_count": null,
      "outputs": []
    },
    {
      "cell_type": "code",
      "source": [
        "df_front_end = df[['zipcode', 'yearBuilt', 'lotSizeSqFt', 'livingAreaSqFt', 'avgSchoolRating','dec_2019_price']]\n",
        "df_front_end.shape"
      ],
      "metadata": {
        "colab": {
          "base_uri": "https://localhost:8080/"
        },
        "id": "_lPAn2_PqBiT",
        "outputId": "69fc4548-1574-429b-8a5b-9eab9b223ad7"
      },
      "execution_count": null,
      "outputs": [
        {
          "output_type": "execute_result",
          "data": {
            "text/plain": [
              "(8011, 6)"
            ]
          },
          "metadata": {},
          "execution_count": 21
        }
      ]
    },
    {
      "cell_type": "code",
      "source": [
        "df_front_end.head()"
      ],
      "metadata": {
        "colab": {
          "base_uri": "https://localhost:8080/",
          "height": 206
        },
        "id": "-eSSLkOHqug1",
        "outputId": "6d591e58-c3f5-4b52-c088-ef510afd072b"
      },
      "execution_count": null,
      "outputs": [
        {
          "output_type": "execute_result",
          "data": {
            "text/plain": [
              "  zipcode  yearBuilt  lotSizeSqFt  livingAreaSqFt  avgSchoolRating  \\\n",
              "0   78757       1958      10018.0          2226.0         6.666667   \n",
              "1   78753       1961      10018.0          1706.0         5.000000   \n",
              "2   78745       1941      15246.0          1676.0         3.333333   \n",
              "3   78748       1988       7361.0          3279.0         7.333333   \n",
              "4   78745       1958       9931.0          1168.0         4.000000   \n",
              "\n",
              "   dec_2019_price  \n",
              "0          470317  \n",
              "1          418299  \n",
              "2          598560  \n",
              "3          481300  \n",
              "4          374344  "
            ],
            "text/html": [
              "\n",
              "  <div id=\"df-5a0c6d26-5894-473a-aaf7-d3aaf120d2ab\">\n",
              "    <div class=\"colab-df-container\">\n",
              "      <div>\n",
              "<style scoped>\n",
              "    .dataframe tbody tr th:only-of-type {\n",
              "        vertical-align: middle;\n",
              "    }\n",
              "\n",
              "    .dataframe tbody tr th {\n",
              "        vertical-align: top;\n",
              "    }\n",
              "\n",
              "    .dataframe thead th {\n",
              "        text-align: right;\n",
              "    }\n",
              "</style>\n",
              "<table border=\"1\" class=\"dataframe\">\n",
              "  <thead>\n",
              "    <tr style=\"text-align: right;\">\n",
              "      <th></th>\n",
              "      <th>zipcode</th>\n",
              "      <th>yearBuilt</th>\n",
              "      <th>lotSizeSqFt</th>\n",
              "      <th>livingAreaSqFt</th>\n",
              "      <th>avgSchoolRating</th>\n",
              "      <th>dec_2019_price</th>\n",
              "    </tr>\n",
              "  </thead>\n",
              "  <tbody>\n",
              "    <tr>\n",
              "      <th>0</th>\n",
              "      <td>78757</td>\n",
              "      <td>1958</td>\n",
              "      <td>10018.0</td>\n",
              "      <td>2226.0</td>\n",
              "      <td>6.666667</td>\n",
              "      <td>470317</td>\n",
              "    </tr>\n",
              "    <tr>\n",
              "      <th>1</th>\n",
              "      <td>78753</td>\n",
              "      <td>1961</td>\n",
              "      <td>10018.0</td>\n",
              "      <td>1706.0</td>\n",
              "      <td>5.000000</td>\n",
              "      <td>418299</td>\n",
              "    </tr>\n",
              "    <tr>\n",
              "      <th>2</th>\n",
              "      <td>78745</td>\n",
              "      <td>1941</td>\n",
              "      <td>15246.0</td>\n",
              "      <td>1676.0</td>\n",
              "      <td>3.333333</td>\n",
              "      <td>598560</td>\n",
              "    </tr>\n",
              "    <tr>\n",
              "      <th>3</th>\n",
              "      <td>78748</td>\n",
              "      <td>1988</td>\n",
              "      <td>7361.0</td>\n",
              "      <td>3279.0</td>\n",
              "      <td>7.333333</td>\n",
              "      <td>481300</td>\n",
              "    </tr>\n",
              "    <tr>\n",
              "      <th>4</th>\n",
              "      <td>78745</td>\n",
              "      <td>1958</td>\n",
              "      <td>9931.0</td>\n",
              "      <td>1168.0</td>\n",
              "      <td>4.000000</td>\n",
              "      <td>374344</td>\n",
              "    </tr>\n",
              "  </tbody>\n",
              "</table>\n",
              "</div>\n",
              "      <button class=\"colab-df-convert\" onclick=\"convertToInteractive('df-5a0c6d26-5894-473a-aaf7-d3aaf120d2ab')\"\n",
              "              title=\"Convert this dataframe to an interactive table.\"\n",
              "              style=\"display:none;\">\n",
              "        \n",
              "  <svg xmlns=\"http://www.w3.org/2000/svg\" height=\"24px\"viewBox=\"0 0 24 24\"\n",
              "       width=\"24px\">\n",
              "    <path d=\"M0 0h24v24H0V0z\" fill=\"none\"/>\n",
              "    <path d=\"M18.56 5.44l.94 2.06.94-2.06 2.06-.94-2.06-.94-.94-2.06-.94 2.06-2.06.94zm-11 1L8.5 8.5l.94-2.06 2.06-.94-2.06-.94L8.5 2.5l-.94 2.06-2.06.94zm10 10l.94 2.06.94-2.06 2.06-.94-2.06-.94-.94-2.06-.94 2.06-2.06.94z\"/><path d=\"M17.41 7.96l-1.37-1.37c-.4-.4-.92-.59-1.43-.59-.52 0-1.04.2-1.43.59L10.3 9.45l-7.72 7.72c-.78.78-.78 2.05 0 2.83L4 21.41c.39.39.9.59 1.41.59.51 0 1.02-.2 1.41-.59l7.78-7.78 2.81-2.81c.8-.78.8-2.07 0-2.86zM5.41 20L4 18.59l7.72-7.72 1.47 1.35L5.41 20z\"/>\n",
              "  </svg>\n",
              "      </button>\n",
              "      \n",
              "  <style>\n",
              "    .colab-df-container {\n",
              "      display:flex;\n",
              "      flex-wrap:wrap;\n",
              "      gap: 12px;\n",
              "    }\n",
              "\n",
              "    .colab-df-convert {\n",
              "      background-color: #E8F0FE;\n",
              "      border: none;\n",
              "      border-radius: 50%;\n",
              "      cursor: pointer;\n",
              "      display: none;\n",
              "      fill: #1967D2;\n",
              "      height: 32px;\n",
              "      padding: 0 0 0 0;\n",
              "      width: 32px;\n",
              "    }\n",
              "\n",
              "    .colab-df-convert:hover {\n",
              "      background-color: #E2EBFA;\n",
              "      box-shadow: 0px 1px 2px rgba(60, 64, 67, 0.3), 0px 1px 3px 1px rgba(60, 64, 67, 0.15);\n",
              "      fill: #174EA6;\n",
              "    }\n",
              "\n",
              "    [theme=dark] .colab-df-convert {\n",
              "      background-color: #3B4455;\n",
              "      fill: #D2E3FC;\n",
              "    }\n",
              "\n",
              "    [theme=dark] .colab-df-convert:hover {\n",
              "      background-color: #434B5C;\n",
              "      box-shadow: 0px 1px 3px 1px rgba(0, 0, 0, 0.15);\n",
              "      filter: drop-shadow(0px 1px 2px rgba(0, 0, 0, 0.3));\n",
              "      fill: #FFFFFF;\n",
              "    }\n",
              "  </style>\n",
              "\n",
              "      <script>\n",
              "        const buttonEl =\n",
              "          document.querySelector('#df-5a0c6d26-5894-473a-aaf7-d3aaf120d2ab button.colab-df-convert');\n",
              "        buttonEl.style.display =\n",
              "          google.colab.kernel.accessAllowed ? 'block' : 'none';\n",
              "\n",
              "        async function convertToInteractive(key) {\n",
              "          const element = document.querySelector('#df-5a0c6d26-5894-473a-aaf7-d3aaf120d2ab');\n",
              "          const dataTable =\n",
              "            await google.colab.kernel.invokeFunction('convertToInteractive',\n",
              "                                                     [key], {});\n",
              "          if (!dataTable) return;\n",
              "\n",
              "          const docLinkHtml = 'Like what you see? Visit the ' +\n",
              "            '<a target=\"_blank\" href=https://colab.research.google.com/notebooks/data_table.ipynb>data table notebook</a>'\n",
              "            + ' to learn more about interactive tables.';\n",
              "          element.innerHTML = '';\n",
              "          dataTable['output_type'] = 'display_data';\n",
              "          await google.colab.output.renderOutput(dataTable, element);\n",
              "          const docLink = document.createElement('div');\n",
              "          docLink.innerHTML = docLinkHtml;\n",
              "          element.appendChild(docLink);\n",
              "        }\n",
              "      </script>\n",
              "    </div>\n",
              "  </div>\n",
              "  "
            ]
          },
          "metadata": {},
          "execution_count": 22
        }
      ]
    },
    {
      "cell_type": "code",
      "source": [
        "X = df_front_end.drop([\"dec_2019_price\"],axis = 1)\n",
        "y = df_front_end.dec_2019_price\n",
        "ct = ColumnTransformer([(\"cat\", OneHotEncoder(handle_unknown = \"ignore\"),[0])], remainder=\"passthrough\")\n",
        "rf_model = RandomForestRegressor()\n",
        "X_train, X_test, y_train, y_test = train_test_split(X, y, test_size=0.3, random_state=100)\n",
        "model = Pipeline([(\"preprocessing\",ct),(\"model\",rf_model)]).fit(X_train,y_train)\n",
        "print(model.named_steps[\"preprocessing\"].get_feature_names())\n",
        "Pipeline([(\"preprocessing\",ct),(\"model\",rf_model)]).score(X_test,y_test)\n",
        "\n"
      ],
      "metadata": {
        "colab": {
          "base_uri": "https://localhost:8080/"
        },
        "id": "kTZ52X9Vq5SV",
        "outputId": "31ea27b3-1c3c-43bd-b8ee-ab4f28bea030"
      },
      "execution_count": null,
      "outputs": [
        {
          "output_type": "stream",
          "name": "stderr",
          "text": [
            "/usr/local/lib/python3.7/dist-packages/sklearn/utils/validation.py:1692: FutureWarning: Feature names only support names that are all strings. Got feature names with dtypes: ['quoted_name']. An error will be raised in 1.2.\n",
            "  FutureWarning,\n",
            "/usr/local/lib/python3.7/dist-packages/sklearn/utils/validation.py:1692: FutureWarning: Feature names only support names that are all strings. Got feature names with dtypes: ['quoted_name']. An error will be raised in 1.2.\n",
            "  FutureWarning,\n"
          ]
        },
        {
          "output_type": "stream",
          "name": "stdout",
          "text": [
            "['cat__x0_78617', 'cat__x0_78660', 'cat__x0_78702', 'cat__x0_78703', 'cat__x0_78704', 'cat__x0_78705', 'cat__x0_78717', 'cat__x0_78721', 'cat__x0_78722', 'cat__x0_78723', 'cat__x0_78724', 'cat__x0_78725', 'cat__x0_78726', 'cat__x0_78727', 'cat__x0_78728', 'cat__x0_78729', 'cat__x0_78730', 'cat__x0_78731', 'cat__x0_78732', 'cat__x0_78733', 'cat__x0_78735', 'cat__x0_78736', 'cat__x0_78737', 'cat__x0_78739', 'cat__x0_78741', 'cat__x0_78744', 'cat__x0_78745', 'cat__x0_78746', 'cat__x0_78747', 'cat__x0_78748', 'cat__x0_78749', 'cat__x0_78750', 'cat__x0_78751', 'cat__x0_78752', 'cat__x0_78753', 'cat__x0_78754', 'cat__x0_78756', 'cat__x0_78757', 'cat__x0_78758', 'cat__x0_78759', 'x1', 'x2', 'x3', 'x4']\n"
          ]
        },
        {
          "output_type": "stream",
          "name": "stderr",
          "text": [
            "/usr/local/lib/python3.7/dist-packages/sklearn/utils/deprecation.py:87: FutureWarning: Function get_feature_names is deprecated; get_feature_names is deprecated in 1.0 and will be removed in 1.2. Please use get_feature_names_out instead.\n",
            "  warnings.warn(msg, category=FutureWarning)\n",
            "/usr/local/lib/python3.7/dist-packages/sklearn/utils/validation.py:1692: FutureWarning: Feature names only support names that are all strings. Got feature names with dtypes: ['quoted_name']. An error will be raised in 1.2.\n",
            "  FutureWarning,\n"
          ]
        },
        {
          "output_type": "execute_result",
          "data": {
            "text/plain": [
              "0.7017517863175484"
            ]
          },
          "metadata": {},
          "execution_count": 26
        }
      ]
    },
    {
      "cell_type": "code",
      "source": [
        "test_input = [['78757',\t1958,\t10018.0,\t2226.0,\t6.666667]]"
      ],
      "metadata": {
        "id": "mXvcdyzf20Xs"
      },
      "execution_count": null,
      "outputs": []
    },
    {
      "cell_type": "code",
      "source": [
        "test_input_transformed = ct.transform(test_input)\n",
        "print(test_input_transformed.toarray())"
      ],
      "metadata": {
        "colab": {
          "base_uri": "https://localhost:8080/"
        },
        "id": "mQyJBOu64NNE",
        "outputId": "fc36760e-36b8-4a9b-8c73-2bf8c383770d"
      },
      "execution_count": null,
      "outputs": [
        {
          "output_type": "stream",
          "name": "stdout",
          "text": [
            "[[0.000000e+00 0.000000e+00 0.000000e+00 0.000000e+00 0.000000e+00\n",
            "  0.000000e+00 0.000000e+00 0.000000e+00 0.000000e+00 0.000000e+00\n",
            "  0.000000e+00 0.000000e+00 0.000000e+00 0.000000e+00 0.000000e+00\n",
            "  0.000000e+00 0.000000e+00 0.000000e+00 0.000000e+00 0.000000e+00\n",
            "  0.000000e+00 0.000000e+00 0.000000e+00 0.000000e+00 0.000000e+00\n",
            "  0.000000e+00 0.000000e+00 0.000000e+00 0.000000e+00 0.000000e+00\n",
            "  0.000000e+00 0.000000e+00 0.000000e+00 0.000000e+00 0.000000e+00\n",
            "  0.000000e+00 0.000000e+00 1.000000e+00 0.000000e+00 0.000000e+00\n",
            "  1.958000e+03 1.001800e+04 2.226000e+03 6.666667e+00]]\n"
          ]
        }
      ]
    },
    {
      "cell_type": "code",
      "source": [
        "rf_model.predict(test_input_transformed)"
      ],
      "metadata": {
        "colab": {
          "base_uri": "https://localhost:8080/"
        },
        "id": "z5sjnZri5GKe",
        "outputId": "dcdd8fa8-aa84-4fa5-89bf-2b478939c3e1"
      },
      "execution_count": null,
      "outputs": [
        {
          "output_type": "execute_result",
          "data": {
            "text/plain": [
              "array([540152.27])"
            ]
          },
          "metadata": {},
          "execution_count": 34
        }
      ]
    },
    {
      "cell_type": "code",
      "source": [
        "# Mount Google Drive\n",
        "from google.colab import drive\n",
        "drive.mount('/content/drive')"
      ],
      "metadata": {
        "colab": {
          "base_uri": "https://localhost:8080/"
        },
        "id": "M9V9lwZ75bAt",
        "outputId": "02aad372-6a25-497d-a4e7-84ac02c1ef9f"
      },
      "execution_count": null,
      "outputs": [
        {
          "output_type": "stream",
          "name": "stdout",
          "text": [
            "Mounted at /content/drive\n"
          ]
        }
      ]
    },
    {
      "cell_type": "code",
      "source": [
        "# loading joblib dependency\n",
        "import joblib\n",
        "\n",
        "# save best_random model for front end, filename-model_jlib\n",
        "joblib.dump(rf_model, '/content/drive/MyDrive/MachineLearningModels/rf_test-model_jlib')"
      ],
      "metadata": {
        "colab": {
          "base_uri": "https://localhost:8080/"
        },
        "id": "uug1G05f7sH4",
        "outputId": "427a4938-f5a3-4ff2-ce6c-f2f2d4babf69"
      },
      "execution_count": null,
      "outputs": [
        {
          "output_type": "execute_result",
          "data": {
            "text/plain": [
              "['/content/drive/MyDrive/MachineLearningModels/rf_test-model_jlib']"
            ]
          },
          "metadata": {},
          "execution_count": 37
        }
      ]
    },
    {
      "cell_type": "code",
      "source": [
        "# loading joblib dependency\n",
        "import joblib\n",
        "\n",
        "# save best_random model for front end, filename-model_jlib\n",
        "joblib.dump(model, '/content/drive/MyDrive/MachineLearningModels/rf_test1-model_jlib')"
      ],
      "metadata": {
        "colab": {
          "base_uri": "https://localhost:8080/"
        },
        "id": "-19GcPJr733v",
        "outputId": "35c750cc-ac85-421d-e58b-ca1b3e691893"
      },
      "execution_count": null,
      "outputs": [
        {
          "output_type": "execute_result",
          "data": {
            "text/plain": [
              "['/content/drive/MyDrive/MachineLearningModels/rf_test1-model_jlib']"
            ]
          },
          "metadata": {},
          "execution_count": 38
        }
      ]
    }
  ]
}